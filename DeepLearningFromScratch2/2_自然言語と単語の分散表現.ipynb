{
  "nbformat": 4,
  "nbformat_minor": 0,
  "metadata": {
    "colab": {
      "name": "2_自然言語と単語の分散表現.ipynb",
      "version": "0.3.2",
      "provenance": [],
      "include_colab_link": true
    },
    "kernelspec": {
      "name": "python3",
      "display_name": "Python 3"
    }
  },
  "cells": [
    {
      "cell_type": "markdown",
      "metadata": {
        "id": "view-in-github",
        "colab_type": "text"
      },
      "source": [
        "<a href=\"https://colab.research.google.com/github/nepptumsat/nlp/blob/master/DeepLearningFromScratch2/2_%E8%87%AA%E7%84%B6%E8%A8%80%E8%AA%9E%E3%81%A8%E5%8D%98%E8%AA%9E%E3%81%AE%E5%88%86%E6%95%A3%E8%A1%A8%E7%8F%BE.ipynb\" target=\"_parent\"><img src=\"https://colab.research.google.com/assets/colab-badge.svg\" alt=\"Open In Colab\"/></a>"
      ]
    },
    {
      "cell_type": "markdown",
      "metadata": {
        "id": "ITTcykBKLVEL",
        "colab_type": "text"
      },
      "source": [
        "# 2.1 自然言語処理とは\n",
        "\n",
        "　日本語や英語など、私たちが普段使っている言葉を**自然言語（Natural Language）**という。また、**自然言語処理（Natural Language Proccessing : NLP）**とは、文字通り解釈すれば「自然言語を処理する分野」ということになる。分かりやすくいうと、「私たちの言葉をコンピュータに理解させるための技術（分野）」といえる。\n",
        "   \n",
        "   \n",
        "　コンピュータが理解できる言語というと、「マークアップ言語」や「プログラミング言語」などが思い浮かべられるが、これらは一意に決まったルールが定められており、\"固い言語\"であるといえる。一方、私たちが普段使っている日本語や英語などの自然言語は、\"柔らかい言語\"であるといえる。これは同じ意味の単語や文章でも様々な表現が可能であったり、文章に曖昧さがあったりと、柔軟に意味や形が変わることを意味する。\n",
        "  \n",
        "頭の固いコンピュータに自然言語を理解させることは一筋縄ではいかない。しかし、その難問をクリアできればとても役に立つものを生み出すことができる。実際の例として、文章の自動要約、質問応答システム、感情分析、自動翻訳などがある。私たちの身の回りには既に、たくさんの自然言語処理の技術が使われている。\n",
        "\n"
      ]
    },
    {
      "cell_type": "markdown",
      "metadata": {
        "id": "UtMaBNTmPFx6",
        "colab_type": "text"
      },
      "source": [
        "## 2.1.1 単語の意味\n",
        "　私たちの言葉は「文字」によって構成される。そして、言葉の意味は「単語」によって構成される。単語は言ってみれば意味の最小単位であり、「単語の意味」を理解させることが重要であるといえる。\n",
        "   \n",
        "　本章のテーマは「単語の意味」を理解させることである。「単語の意味」の表現方法として、具体的には、本章と次章で以下の３つを挙げる。\n",
        " \n",
        " - シソーラスによる手法\n",
        " - カウントベースの手法\n",
        " - 推論ベースの手法\n",
        " \n",
        " 最初に、人の手によって作られたシソーラス（類語辞書）を利用する手法について見ていく。次に、統計情報から単語を表現するカウントベースの手法について学習する。そして最後に推論ベースの手法（具体的にはword2vecと呼ばれる手法）を扱う。\n",
        " \n",
        " "
      ]
    },
    {
      "cell_type": "code",
      "metadata": {
        "id": "BJ2OP2sS0bwE",
        "colab_type": "code",
        "colab": {}
      },
      "source": [
        ""
      ],
      "execution_count": 0,
      "outputs": []
    }
  ]
}